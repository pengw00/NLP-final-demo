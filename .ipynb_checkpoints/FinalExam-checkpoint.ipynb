{
 "cells": [
  {
   "cell_type": "markdown",
   "metadata": {},
   "source": [
    "---\n",
    "\n",
    "<center>\n",
    "<h1>COSC 6336 - Natural Language Processing</h1>\n",
    "<h1>Final Exam</h1>\n",
    "</center>\n",
    "\n",
    "---\n",
    "\n",
    "\n",
    "## General instructions\n",
    "\n",
    "The exam is divided into two sections. The first part is all about theory questions, and the second part presents a practical problem where you will need to code. There is no grader this time.\n",
    "\n",
    "The exam was designed to be completed in **two hours**. "
   ]
  },
  {
   "cell_type": "code",
   "execution_count": 1,
   "metadata": {
    "editable": false
   },
   "outputs": [],
   "source": [
    "from helper import TestManager\n",
    "tm = TestManager()"
   ]
  },
  {
   "cell_type": "markdown",
   "metadata": {
    "editable": false
   },
   "source": [
    "## Part 1\n",
    "\n",
    "Answer the following questions by choosing one of the answers. Once you are done with all the questions, **run the submit cell** (this will store your answers and avoid potential loss of them).\n",
    "\n",
    "### 1 - (5pts)\n",
    "In a dependency-based parse tree, which of the following is true?\n",
    "    \n",
    "    a. All nodes are labeled with words\n",
    "    b. Only leaf nodes are labeled with words\n",
    "    c. Only non-terminal nodes are labeled with words\n",
    "    d. No words appear in the tree"
   ]
  },
  {
   "cell_type": "code",
   "execution_count": 2,
   "metadata": {
    "editable": false
   },
   "outputs": [
    {
     "data": {
      "application/vnd.jupyter.widget-view+json": {
       "model_id": "7cd348b5b8eb47d4bc32de939096bcfe",
       "version_major": 2,
       "version_minor": 0
      },
      "text/plain": [
       "Dropdown(description='Your choice:', options=('-- Select one', 'Option A', 'Option B', 'Option C', 'Option D')…"
      ]
     },
     "metadata": {},
     "output_type": "display_data"
    }
   ],
   "source": [
    "tm.display(1)"
   ]
  },
  {
   "cell_type": "markdown",
   "metadata": {
    "editable": false
   },
   "source": [
    "### 2 - (5pts)\n",
    "In a parsing tree, which of the following is true?\n",
    "\n",
    "    a. Each node represents a word in the sentence\n",
    "    b. The order of the words is not preserved\n",
    "    c. The number of the leaves is equal to the number of the words\n",
    "    d. The tree is always binary"
   ]
  },
  {
   "cell_type": "code",
   "execution_count": 3,
   "metadata": {
    "editable": false
   },
   "outputs": [
    {
     "data": {
      "application/vnd.jupyter.widget-view+json": {
       "model_id": "a51e6cab3c634b5dbb2c2e4379131f7c",
       "version_major": 2,
       "version_minor": 0
      },
      "text/plain": [
       "Dropdown(description='Your choice:', options=('-- Select one', 'Option A', 'Option B', 'Option C', 'Option D')…"
      ]
     },
     "metadata": {},
     "output_type": "display_data"
    }
   ],
   "source": [
    "tm.display(2)"
   ]
  },
  {
   "cell_type": "markdown",
   "metadata": {
    "editable": false
   },
   "source": [
    "### 3 - (5pts)\n",
    "From the linguistic perspective, what is one of the problems of the CKY algorithm?\n",
    "\n",
    "    a. It is not practical because it is too slow regardless of the grammar\n",
    "    b. It is not capable to produce all the possible trees with respect to the grammar for a given sequence\n",
    "    c. The grammar has to be in CNF and it will only produce binary trees\n",
    "    d. There is no problem with the CKY algorithm from the linguistic perspective"
   ]
  },
  {
   "cell_type": "code",
   "execution_count": 4,
   "metadata": {
    "editable": false
   },
   "outputs": [
    {
     "data": {
      "application/vnd.jupyter.widget-view+json": {
       "model_id": "8f9afe4dcc9644ca86de74805c947253",
       "version_major": 2,
       "version_minor": 0
      },
      "text/plain": [
       "Dropdown(description='Your choice:', options=('-- Select one', 'Option A', 'Option B', 'Option C', 'Option D')…"
      ]
     },
     "metadata": {},
     "output_type": "display_data"
    }
   ],
   "source": [
    "tm.display(3)"
   ]
  },
  {
   "cell_type": "markdown",
   "metadata": {},
   "source": [
    "### 4 - (5pts)\n",
    "In the context of the IOB scheme, which of the following is true?\n",
    "\n",
    "    a. IOB stands for Inside Outside and Between and it is used on chunking tasks \n",
    "    b. The IOB scheme is a way to group multiple tokens in a chunking task from a given sequence\n",
    "    c. The IOB scheme helps to provide semantic and syntactic information in a classification task\n",
    "    d. The IOB scheme is only used for NER labels out of all the NLP applications"
   ]
  },
  {
   "cell_type": "code",
   "execution_count": 5,
   "metadata": {
    "editable": false
   },
   "outputs": [
    {
     "data": {
      "application/vnd.jupyter.widget-view+json": {
       "model_id": "fb7ce79b43e04b11b1dd80507f63f5d6",
       "version_major": 2,
       "version_minor": 0
      },
      "text/plain": [
       "Dropdown(description='Your choice:', options=('-- Select one', 'Option A', 'Option B', 'Option C', 'Option D')…"
      ]
     },
     "metadata": {},
     "output_type": "display_data"
    }
   ],
   "source": [
    "tm.display(4)"
   ]
  },
  {
   "cell_type": "markdown",
   "metadata": {
    "editable": false
   },
   "source": [
    "### 5 - (5pts)\n",
    "\n",
    "In a classification task where the data is extremely unbalanced, what would be the most appropiate metric to measure the output of your model in such scenario?\n",
    "\n",
    "    a. Precision\n",
    "    b. Accuracy\n",
    "    c. F-measure\n",
    "    d. Recall"
   ]
  },
  {
   "cell_type": "code",
   "execution_count": 6,
   "metadata": {
    "editable": false
   },
   "outputs": [
    {
     "data": {
      "application/vnd.jupyter.widget-view+json": {
       "model_id": "4fb0aeea563f4a2c93b6b152030eaba3",
       "version_major": 2,
       "version_minor": 0
      },
      "text/plain": [
       "Dropdown(description='Your choice:', options=('-- Select one', 'Option A', 'Option B', 'Option C', 'Option D')…"
      ]
     },
     "metadata": {},
     "output_type": "display_data"
    }
   ],
   "source": [
    "tm.display(5)"
   ]
  },
  {
   "cell_type": "markdown",
   "metadata": {
    "editable": false
   },
   "source": [
    "### 6 - (5pts)\n",
    "\n",
    "What is the standard way to associate probabilities to the production rules of a gramar? \n",
    "\n",
    "    a. Calculating the frequency of that production rule and then dividing by the total \n",
    "       number of rules in the grammar\n",
    "    b. Counting all the rules with the same right-hand-side symbols and then dividing it by \n",
    "       the total number of rules in the grammar\n",
    "    c. Calculating the frequency of that production rule and then diving by the total \n",
    "       number of rules that contain the same head (lef-hand-side) symbol of the original rule\n",
    "    d. Counting all the rules with the same right-hand-side symbols regardless of the order\n",
    "       and then dividing it by the total number of rules"
   ]
  },
  {
   "cell_type": "code",
   "execution_count": 7,
   "metadata": {
    "editable": false
   },
   "outputs": [
    {
     "data": {
      "application/vnd.jupyter.widget-view+json": {
       "model_id": "738f2767467146be934b4ce72af8a09f",
       "version_major": 2,
       "version_minor": 0
      },
      "text/plain": [
       "Dropdown(description='Your choice:', options=('-- Select one', 'Option A', 'Option B', 'Option C', 'Option D')…"
      ]
     },
     "metadata": {},
     "output_type": "display_data"
    }
   ],
   "source": [
    "tm.display(6)"
   ]
  },
  {
   "cell_type": "markdown",
   "metadata": {
    "editable": false
   },
   "source": [
    "### 7 - (5pts)\n",
    "\n",
    "Regarding the Earley Parsing algorithm, which of the following is **not** correct?\n",
    "\n",
    "    a. It runs in a top-bottom fashion\n",
    "    b. Grammar must be in CNF\n",
    "    c. Allows arbitrary CFGs\n",
    "    d. The resulting parse tree may be consistent with linguistic grammar"
   ]
  },
  {
   "cell_type": "code",
   "execution_count": 8,
   "metadata": {
    "editable": false
   },
   "outputs": [
    {
     "data": {
      "application/vnd.jupyter.widget-view+json": {
       "model_id": "49540a007b5e46d0acb6c554df8043d5",
       "version_major": 2,
       "version_minor": 0
      },
      "text/plain": [
       "Dropdown(description='Your choice:', options=('-- Select one', 'Option A', 'Option B', 'Option C', 'Option D')…"
      ]
     },
     "metadata": {},
     "output_type": "display_data"
    }
   ],
   "source": [
    "tm.display(7)"
   ]
  },
  {
   "cell_type": "markdown",
   "metadata": {
    "editable": false
   },
   "source": [
    "### 8 - (5pts)\n",
    "\n",
    "In the context of dialogue systems, which of the following is **not** a limitation/constraint of sequence to sequence models?\n",
    "\n",
    "    a. They need text preprocessing and lemmatization\n",
    "    b. They are originally designed for Machine Translation and thus they disregard some \n",
    "       conversational aspects\n",
    "    c. They may show a tendency for repetitive responses\n",
    "    d. They lack contextual information"
   ]
  },
  {
   "cell_type": "code",
   "execution_count": 9,
   "metadata": {
    "editable": false
   },
   "outputs": [
    {
     "data": {
      "application/vnd.jupyter.widget-view+json": {
       "model_id": "893a21c9010541cf8114ed8df19702c5",
       "version_major": 2,
       "version_minor": 0
      },
      "text/plain": [
       "Dropdown(description='Your choice:', options=('-- Select one', 'Option A', 'Option B', 'Option C', 'Option D')…"
      ]
     },
     "metadata": {},
     "output_type": "display_data"
    }
   ],
   "source": [
    "tm.display(8)"
   ]
  },
  {
   "cell_type": "markdown",
   "metadata": {
    "editable": false
   },
   "source": [
    "Run the following cell to take a look at your choices you have done so far:"
   ]
  },
  {
   "cell_type": "code",
   "execution_count": 10,
   "metadata": {
    "editable": false
   },
   "outputs": [
    {
     "name": "stdout",
     "output_type": "stream",
     "text": [
      "1 -> None\n",
      "2 -> None\n",
      "3 -> None\n",
      "4 -> None\n",
      "5 -> None\n",
      "6 -> None\n",
      "7 -> None\n",
      "8 -> None\n"
     ]
    }
   ],
   "source": [
    "tm.show_choices()"
   ]
  },
  {
   "cell_type": "markdown",
   "metadata": {
    "editable": false
   },
   "source": [
    "#### STORE YOUR ANSWERS BY RUNNING THE FOLLOWING CELL"
   ]
  },
  {
   "cell_type": "code",
   "execution_count": 0,
   "metadata": {
    "editable": false
   },
   "outputs": [],
   "source": [
    "tm.save_choices()"
   ]
  },
  {
   "cell_type": "markdown",
   "metadata": {
    "editable": false
   },
   "source": [
    "## Part 2 \n",
    "\n",
    "In this section you will implement a CKY algorithm that produces all the possible trees of a sentence. Also, you can implement the probabilistic CKY for extra points. You must assume the following CNF grammar:\n",
    "\n",
    "```\n",
    "    S   -> NP VP [1.0]\n",
    "    NP  -> DT N  [0.5]  | NP PP     [0.25] | John [0.1] | I [0.15]\n",
    "    DT  -> the   [0.8]  | my        [0.2]\n",
    "    N   -> man   [0.5]  | telescope [0.5]\n",
    "    VP  -> VP PP [0.3]  | V NP      [0.7]\n",
    "    V   -> ate   [0.35] | saw       [0.65]\n",
    "    PP  -> P NP  [1.0]\n",
    "    P   -> with  [0.61] | under     [0.39]\n",
    "```\n",
    "\n",
    "You **can use nltk utilities** for any intermmediate task, but the CKY algorithms must be your own code."
   ]
  },
  {
   "cell_type": "markdown",
   "metadata": {
    "editable": false
   },
   "source": [
    "### 1 - (10pts)\n",
    "\n",
    "Using the above grammar generate all the possible trees for the following sentence:\n",
    "\n",
    "    John saw a man with my telescope\n",
    "    \n",
    "You can use your CKY code or implement any other approach to achieve the desired outcome."
   ]
  },
  {
   "cell_type": "code",
   "execution_count": 11,
   "metadata": {
    "editable": false
   },
   "outputs": [
    {
     "data": {
      "text/plain": [
       "['John', 'saw', 'the', 'man', 'with', 'my', 'telescope']"
      ]
     },
     "execution_count": 11,
     "metadata": {},
     "output_type": "execute_result"
    }
   ],
   "source": [
    "sent = 'John saw the man with my telescope'.split()\n",
    "sent"
   ]
  },
  {
   "cell_type": "code",
   "execution_count": 12,
   "metadata": {
    "editable": false
   },
   "outputs": [],
   "source": [
    "from nltk.grammar import PCFG\n",
    "\n",
    "grammar = PCFG.fromstring(\"\"\"\n",
    "    S -> NP VP [1.0] \n",
    "    NP -> DT N [0.5] | NP PP [0.25] | 'John' [0.1] | 'I' [0.15]\n",
    "    DT -> 'the' [0.8] | 'my' [0.2]\n",
    "    N -> 'man' [0.5] | 'telescope' [0.5]\n",
    "    VP -> VP PP [0.3] | V NP [0.7]\n",
    "    V -> 'ate' [0.35] | 'saw' [0.65]\n",
    "    PP -> P NP [1.0] \n",
    "    P -> 'with' [0.61] | 'under' [0.39]\"\"\")"
   ]
  },
  {
   "cell_type": "code",
   "execution_count": 13,
   "metadata": {},
   "outputs": [],
   "source": [
    "### YOUR CODE GOES HERE"
   ]
  },
  {
   "cell_type": "markdown",
   "metadata": {
    "editable": false
   },
   "source": [
    "### 2 - (10pts - BONUS!)\n",
    "\n",
    "Provide the most likely tree and its probability using your PCKY code."
   ]
  },
  {
   "cell_type": "code",
   "execution_count": 14,
   "metadata": {},
   "outputs": [],
   "source": [
    "parse_tree = ''\n",
    "parse_prob = 0.0\n",
    "\n",
    "### YOUR CODE GOES HERE"
   ]
  },
  {
   "cell_type": "markdown",
   "metadata": {
    "editable": false
   },
   "source": [
    "Save your results running the following function:"
   ]
  },
  {
   "cell_type": "code",
   "execution_count": 0,
   "metadata": {
    "editable": false
   },
   "outputs": [],
   "source": [
    "tm.save_pcky_tree(parse_tree, parse_prob)"
   ]
  },
  {
   "cell_type": "markdown",
   "metadata": {},
   "source": [
    "---\n",
    "## Take a look at your answers"
   ]
  },
  {
   "cell_type": "code",
   "execution_count": 15,
   "metadata": {
    "editable": false
   },
   "outputs": [
    {
     "name": "stdout",
     "output_type": "stream",
     "text": [
      "cat: multiple_choice.tsv: No such file or directory\r\n"
     ]
    }
   ],
   "source": [
    "!cat multiple_choice.tsv"
   ]
  },
  {
   "cell_type": "code",
   "execution_count": 16,
   "metadata": {
    "editable": false
   },
   "outputs": [
    {
     "name": "stdout",
     "output_type": "stream",
     "text": [
      "cat: cky_trees.txt: No such file or directory\r\n"
     ]
    }
   ],
   "source": [
    "!cat cky_trees.txt"
   ]
  },
  {
   "cell_type": "code",
   "execution_count": 17,
   "metadata": {
    "editable": false
   },
   "outputs": [
    {
     "name": "stdout",
     "output_type": "stream",
     "text": [
      "cat: pcky_tree.tsv: No such file or directory\r\n"
     ]
    }
   ],
   "source": [
    "!cat pcky_tree.tsv"
   ]
  },
  {
   "cell_type": "code",
   "execution_count": 0,
   "metadata": {},
   "outputs": [],
   "source": []
  }
 ],
 "metadata": {
  "kernelspec": {
   "display_name": "Python 3 (Ubuntu Linux)",
   "language": "python",
   "name": "python3"
  },
  "language_info": {
   "codemirror_mode": {
    "name": "ipython",
    "version": 3
   },
   "file_extension": ".py",
   "mimetype": "text/x-python",
   "name": "python",
   "nbconvert_exporter": "python",
   "pygments_lexer": "ipython3",
   "version": "3.5.2"
  }
 },
 "nbformat": 4,
 "nbformat_minor": 1
}
